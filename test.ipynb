{
 "cells": [
  {
   "cell_type": "code",
   "execution_count": 1,
   "metadata": {
    "collapsed": true
   },
   "outputs": [],
   "source": [
    "import numpy as np\n",
    "import pandas as pd\n",
    "import matplotlib.pyplot as plt\n",
    "import networkx as nx\n",
    "import json\n",
    "import seaborn as sns\n",
    "sns.set()\n",
    "%matplotlib inline"
   ]
  },
  {
   "cell_type": "markdown",
   "metadata": {},
   "source": [
    "## Step1: build the initial state of the entire user network, as well as the purchae history of the users\n",
    "Input: sample_dataset/batch_log.json"
   ]
  },
  {
   "cell_type": "code",
   "execution_count": 2,
   "metadata": {
    "collapsed": false
   },
   "outputs": [],
   "source": [
    "batchlogfile = 'sample_dataset/batch_log_s.json'\n",
    "df = pd.read_json(batchlogfile, lines=True)"
   ]
  },
  {
   "cell_type": "code",
   "execution_count": 3,
   "metadata": {
    "collapsed": false
   },
   "outputs": [
    {
     "data": {
      "text/html": [
       "<div>\n",
       "<table border=\"1\" class=\"dataframe\">\n",
       "  <thead>\n",
       "    <tr style=\"text-align: right;\">\n",
       "      <th></th>\n",
       "      <th>D</th>\n",
       "      <th>T</th>\n",
       "      <th>amount</th>\n",
       "      <th>event_type</th>\n",
       "      <th>id</th>\n",
       "      <th>id1</th>\n",
       "      <th>id2</th>\n",
       "      <th>timestamp</th>\n",
       "    </tr>\n",
       "  </thead>\n",
       "  <tbody>\n",
       "    <tr>\n",
       "      <th>0</th>\n",
       "      <td>2.0</td>\n",
       "      <td>50.0</td>\n",
       "      <td>NaN</td>\n",
       "      <td>NaN</td>\n",
       "      <td>NaN</td>\n",
       "      <td>NaN</td>\n",
       "      <td>NaN</td>\n",
       "      <td>NaT</td>\n",
       "    </tr>\n",
       "    <tr>\n",
       "      <th>1</th>\n",
       "      <td>NaN</td>\n",
       "      <td>NaN</td>\n",
       "      <td>56.69</td>\n",
       "      <td>purchase</td>\n",
       "      <td>1.0</td>\n",
       "      <td>NaN</td>\n",
       "      <td>NaN</td>\n",
       "      <td>2017-06-14 18:46:40</td>\n",
       "    </tr>\n",
       "    <tr>\n",
       "      <th>2</th>\n",
       "      <td>NaN</td>\n",
       "      <td>NaN</td>\n",
       "      <td>20.68</td>\n",
       "      <td>purchase</td>\n",
       "      <td>2.0</td>\n",
       "      <td>NaN</td>\n",
       "      <td>NaN</td>\n",
       "      <td>2017-06-14 18:46:40</td>\n",
       "    </tr>\n",
       "    <tr>\n",
       "      <th>3</th>\n",
       "      <td>NaN</td>\n",
       "      <td>NaN</td>\n",
       "      <td>27.91</td>\n",
       "      <td>purchase</td>\n",
       "      <td>3.0</td>\n",
       "      <td>NaN</td>\n",
       "      <td>NaN</td>\n",
       "      <td>2017-06-14 18:46:40</td>\n",
       "    </tr>\n",
       "    <tr>\n",
       "      <th>4</th>\n",
       "      <td>NaN</td>\n",
       "      <td>NaN</td>\n",
       "      <td>76.61</td>\n",
       "      <td>purchase</td>\n",
       "      <td>4.0</td>\n",
       "      <td>NaN</td>\n",
       "      <td>NaN</td>\n",
       "      <td>2017-06-14 18:46:40</td>\n",
       "    </tr>\n",
       "    <tr>\n",
       "      <th>5</th>\n",
       "      <td>NaN</td>\n",
       "      <td>NaN</td>\n",
       "      <td>56.01</td>\n",
       "      <td>purchase</td>\n",
       "      <td>5.0</td>\n",
       "      <td>NaN</td>\n",
       "      <td>NaN</td>\n",
       "      <td>2017-06-14 18:46:40</td>\n",
       "    </tr>\n",
       "    <tr>\n",
       "      <th>6</th>\n",
       "      <td>NaN</td>\n",
       "      <td>NaN</td>\n",
       "      <td>73.72</td>\n",
       "      <td>purchase</td>\n",
       "      <td>6.0</td>\n",
       "      <td>NaN</td>\n",
       "      <td>NaN</td>\n",
       "      <td>2017-06-14 18:46:40</td>\n",
       "    </tr>\n",
       "    <tr>\n",
       "      <th>7</th>\n",
       "      <td>NaN</td>\n",
       "      <td>NaN</td>\n",
       "      <td>24.11</td>\n",
       "      <td>purchase</td>\n",
       "      <td>7.0</td>\n",
       "      <td>NaN</td>\n",
       "      <td>NaN</td>\n",
       "      <td>2017-06-14 18:46:40</td>\n",
       "    </tr>\n",
       "    <tr>\n",
       "      <th>8</th>\n",
       "      <td>NaN</td>\n",
       "      <td>NaN</td>\n",
       "      <td>33.43</td>\n",
       "      <td>purchase</td>\n",
       "      <td>8.0</td>\n",
       "      <td>NaN</td>\n",
       "      <td>NaN</td>\n",
       "      <td>2017-06-14 18:46:40</td>\n",
       "    </tr>\n",
       "    <tr>\n",
       "      <th>9</th>\n",
       "      <td>NaN</td>\n",
       "      <td>NaN</td>\n",
       "      <td>49.89</td>\n",
       "      <td>purchase</td>\n",
       "      <td>9.0</td>\n",
       "      <td>NaN</td>\n",
       "      <td>NaN</td>\n",
       "      <td>2017-06-14 18:46:40</td>\n",
       "    </tr>\n",
       "  </tbody>\n",
       "</table>\n",
       "</div>"
      ],
      "text/plain": [
       "     D     T  amount event_type   id  id1  id2           timestamp\n",
       "0  2.0  50.0     NaN        NaN  NaN  NaN  NaN                 NaT\n",
       "1  NaN   NaN   56.69   purchase  1.0  NaN  NaN 2017-06-14 18:46:40\n",
       "2  NaN   NaN   20.68   purchase  2.0  NaN  NaN 2017-06-14 18:46:40\n",
       "3  NaN   NaN   27.91   purchase  3.0  NaN  NaN 2017-06-14 18:46:40\n",
       "4  NaN   NaN   76.61   purchase  4.0  NaN  NaN 2017-06-14 18:46:40\n",
       "5  NaN   NaN   56.01   purchase  5.0  NaN  NaN 2017-06-14 18:46:40\n",
       "6  NaN   NaN   73.72   purchase  6.0  NaN  NaN 2017-06-14 18:46:40\n",
       "7  NaN   NaN   24.11   purchase  7.0  NaN  NaN 2017-06-14 18:46:40\n",
       "8  NaN   NaN   33.43   purchase  8.0  NaN  NaN 2017-06-14 18:46:40\n",
       "9  NaN   NaN   49.89   purchase  9.0  NaN  NaN 2017-06-14 18:46:40"
      ]
     },
     "execution_count": 3,
     "metadata": {},
     "output_type": "execute_result"
    }
   ],
   "source": [
    "df.head(10)"
   ]
  },
  {
   "cell_type": "code",
   "execution_count": 4,
   "metadata": {
    "collapsed": false
   },
   "outputs": [
    {
     "data": {
      "text/html": [
       "<div>\n",
       "<table border=\"1\" class=\"dataframe\">\n",
       "  <thead>\n",
       "    <tr style=\"text-align: right;\">\n",
       "      <th></th>\n",
       "      <th>D</th>\n",
       "      <th>T</th>\n",
       "      <th>amount</th>\n",
       "      <th>id</th>\n",
       "      <th>id1</th>\n",
       "      <th>id2</th>\n",
       "    </tr>\n",
       "  </thead>\n",
       "  <tbody>\n",
       "    <tr>\n",
       "      <th>count</th>\n",
       "      <td>1.0</td>\n",
       "      <td>1.0</td>\n",
       "      <td>10.00000</td>\n",
       "      <td>10.00000</td>\n",
       "      <td>13.000000</td>\n",
       "      <td>13.000000</td>\n",
       "    </tr>\n",
       "    <tr>\n",
       "      <th>mean</th>\n",
       "      <td>2.0</td>\n",
       "      <td>50.0</td>\n",
       "      <td>44.33000</td>\n",
       "      <td>5.50000</td>\n",
       "      <td>4.769231</td>\n",
       "      <td>6.461538</td>\n",
       "    </tr>\n",
       "    <tr>\n",
       "      <th>std</th>\n",
       "      <td>NaN</td>\n",
       "      <td>NaN</td>\n",
       "      <td>21.04408</td>\n",
       "      <td>3.02765</td>\n",
       "      <td>2.803386</td>\n",
       "      <td>3.230464</td>\n",
       "    </tr>\n",
       "    <tr>\n",
       "      <th>min</th>\n",
       "      <td>2.0</td>\n",
       "      <td>50.0</td>\n",
       "      <td>20.68000</td>\n",
       "      <td>1.00000</td>\n",
       "      <td>1.000000</td>\n",
       "      <td>2.000000</td>\n",
       "    </tr>\n",
       "    <tr>\n",
       "      <th>25%</th>\n",
       "      <td>2.0</td>\n",
       "      <td>50.0</td>\n",
       "      <td>25.16500</td>\n",
       "      <td>3.25000</td>\n",
       "      <td>3.000000</td>\n",
       "      <td>3.000000</td>\n",
       "    </tr>\n",
       "    <tr>\n",
       "      <th>50%</th>\n",
       "      <td>2.0</td>\n",
       "      <td>50.0</td>\n",
       "      <td>41.66000</td>\n",
       "      <td>5.50000</td>\n",
       "      <td>4.000000</td>\n",
       "      <td>6.000000</td>\n",
       "    </tr>\n",
       "    <tr>\n",
       "      <th>75%</th>\n",
       "      <td>2.0</td>\n",
       "      <td>50.0</td>\n",
       "      <td>56.52000</td>\n",
       "      <td>7.75000</td>\n",
       "      <td>7.000000</td>\n",
       "      <td>10.000000</td>\n",
       "    </tr>\n",
       "    <tr>\n",
       "      <th>max</th>\n",
       "      <td>2.0</td>\n",
       "      <td>50.0</td>\n",
       "      <td>76.61000</td>\n",
       "      <td>10.00000</td>\n",
       "      <td>9.000000</td>\n",
       "      <td>10.000000</td>\n",
       "    </tr>\n",
       "  </tbody>\n",
       "</table>\n",
       "</div>"
      ],
      "text/plain": [
       "         D     T    amount        id        id1        id2\n",
       "count  1.0   1.0  10.00000  10.00000  13.000000  13.000000\n",
       "mean   2.0  50.0  44.33000   5.50000   4.769231   6.461538\n",
       "std    NaN   NaN  21.04408   3.02765   2.803386   3.230464\n",
       "min    2.0  50.0  20.68000   1.00000   1.000000   2.000000\n",
       "25%    2.0  50.0  25.16500   3.25000   3.000000   3.000000\n",
       "50%    2.0  50.0  41.66000   5.50000   4.000000   6.000000\n",
       "75%    2.0  50.0  56.52000   7.75000   7.000000  10.000000\n",
       "max    2.0  50.0  76.61000  10.00000   9.000000  10.000000"
      ]
     },
     "execution_count": 4,
     "metadata": {},
     "output_type": "execute_result"
    }
   ],
   "source": [
    "df.describe()"
   ]
  },
  {
   "cell_type": "code",
   "execution_count": 5,
   "metadata": {
    "collapsed": false
   },
   "outputs": [
    {
     "name": "stdout",
     "output_type": "stream",
     "text": [
      "2.0\n",
      "50.0\n"
     ]
    },
    {
     "data": {
      "text/html": [
       "<div>\n",
       "<table border=\"1\" class=\"dataframe\">\n",
       "  <thead>\n",
       "    <tr style=\"text-align: right;\">\n",
       "      <th></th>\n",
       "      <th>D</th>\n",
       "      <th>T</th>\n",
       "    </tr>\n",
       "  </thead>\n",
       "  <tbody>\n",
       "    <tr>\n",
       "      <th>0</th>\n",
       "      <td>2.0</td>\n",
       "      <td>50.0</td>\n",
       "    </tr>\n",
       "  </tbody>\n",
       "</table>\n",
       "</div>"
      ],
      "text/plain": [
       "     D     T\n",
       "0  2.0  50.0"
      ]
     },
     "execution_count": 5,
     "metadata": {},
     "output_type": "execute_result"
    }
   ],
   "source": [
    "# Read D and T\n",
    "df_DT=df[df['D'].notnull()]\n",
    "df_DT=df_DT[['D','T']]\n",
    "D = df_DT.values[0][0]\n",
    "T = df_DT.values[0][1]\n",
    "print(D)\n",
    "print(T)\n",
    "df_DT.head()"
   ]
  },
  {
   "cell_type": "code",
   "execution_count": 6,
   "metadata": {
    "collapsed": false
   },
   "outputs": [],
   "source": [
    "# check D and T values\n",
    "if D < 1:\n",
    "    print('Program terminated because of D < 1')\n",
    "    sys.exit()\n",
    "if T < 2:\n",
    "    print('Program terminated because of T < 2')\n",
    "    sys.exit()"
   ]
  },
  {
   "cell_type": "code",
   "execution_count": 7,
   "metadata": {
    "collapsed": false
   },
   "outputs": [],
   "source": [
    "#for possible_value in set(df['event_type'].tolist()):\n",
    "#    print(possible_value)"
   ]
  },
  {
   "cell_type": "code",
   "execution_count": 8,
   "metadata": {
    "collapsed": false
   },
   "outputs": [
    {
     "data": {
      "text/plain": [
       "(10, 4)"
      ]
     },
     "execution_count": 8,
     "metadata": {},
     "output_type": "execute_result"
    }
   ],
   "source": [
    "df_purchase = df[df['event_type']=='purchase']\n",
    "df_purchase = df_purchase[['event_type','id','timestamp','amount']]\n",
    "df_purchase = df_purchase.sort_values('timestamp')\n",
    "df_purchase.shape"
   ]
  },
  {
   "cell_type": "code",
   "execution_count": 9,
   "metadata": {
    "collapsed": false
   },
   "outputs": [
    {
     "data": {
      "text/plain": [
       "(13, 4)"
      ]
     },
     "execution_count": 9,
     "metadata": {},
     "output_type": "execute_result"
    }
   ],
   "source": [
    "df_friend=df[(df['event_type']=='befriend') | (df['event_type']=='unfriend')]\n",
    "df_friend=df_friend[['event_type','id1','id2','timestamp']]\n",
    "df_friend=df_friend.sort_values('timestamp')\n",
    "df_friend.shape"
   ]
  },
  {
   "cell_type": "code",
   "execution_count": 10,
   "metadata": {
    "collapsed": true
   },
   "outputs": [],
   "source": [
    "G = nx.Graph()"
   ]
  },
  {
   "cell_type": "code",
   "execution_count": 11,
   "metadata": {
    "collapsed": false
   },
   "outputs": [
    {
     "data": {
      "text/plain": [
       "10"
      ]
     },
     "execution_count": 11,
     "metadata": {},
     "output_type": "execute_result"
    }
   ],
   "source": [
    "id1list = df_friend.id1.tolist()\n",
    "id2list = df_friend.id2.tolist()\n",
    "idlist = set(id1list + id2list)\n",
    "G.add_nodes_from(idlist)\n",
    "len(list(G.nodes()))"
   ]
  },
  {
   "cell_type": "code",
   "execution_count": 12,
   "metadata": {
    "collapsed": true
   },
   "outputs": [],
   "source": [
    "def Add_edges(data):\n",
    "    for i in range(0, len(data)):\n",
    "        datai = data.iloc[i]\n",
    "        id10 = datai['id1']\n",
    "        id20 = datai['id2']\n",
    "        event_type0 = datai['event_type']\n",
    "        if event_type0 == 'befriend':\n",
    "            G.add_edge(id10,id20)\n",
    "        if event_type0 == 'unfriend':\n",
    "            if G.has_edge(id10,id20):\n",
    "                G.remove_edge(id10,id20)  \n",
    "                            "
   ]
  },
  {
   "cell_type": "code",
   "execution_count": 13,
   "metadata": {
    "collapsed": true
   },
   "outputs": [],
   "source": [
    "Add_edges(df_friend)"
   ]
  },
  {
   "cell_type": "code",
   "execution_count": 14,
   "metadata": {
    "collapsed": false
   },
   "outputs": [
    {
     "data": {
      "text/plain": [
       "10"
      ]
     },
     "execution_count": 14,
     "metadata": {},
     "output_type": "execute_result"
    }
   ],
   "source": [
    "len(list(G.edges()))"
   ]
  },
  {
   "cell_type": "code",
   "execution_count": null,
   "metadata": {
    "collapsed": false
   },
   "outputs": [],
   "source": []
  },
  {
   "cell_type": "code",
   "execution_count": 15,
   "metadata": {
    "collapsed": false
   },
   "outputs": [
    {
     "data": {
      "text/html": [
       "<div>\n",
       "<table border=\"1\" class=\"dataframe\">\n",
       "  <thead>\n",
       "    <tr style=\"text-align: right;\">\n",
       "      <th></th>\n",
       "      <th>event_type</th>\n",
       "      <th>id1</th>\n",
       "      <th>id2</th>\n",
       "      <th>timestamp</th>\n",
       "    </tr>\n",
       "  </thead>\n",
       "  <tbody>\n",
       "    <tr>\n",
       "      <th>11</th>\n",
       "      <td>befriend</td>\n",
       "      <td>1.0</td>\n",
       "      <td>2.0</td>\n",
       "      <td>2017-06-14 18:46:40</td>\n",
       "    </tr>\n",
       "    <tr>\n",
       "      <th>12</th>\n",
       "      <td>befriend</td>\n",
       "      <td>1.0</td>\n",
       "      <td>3.0</td>\n",
       "      <td>2017-06-14 18:46:40</td>\n",
       "    </tr>\n",
       "    <tr>\n",
       "      <th>14</th>\n",
       "      <td>befriend</td>\n",
       "      <td>1.0</td>\n",
       "      <td>8.0</td>\n",
       "      <td>2017-06-14 18:46:40</td>\n",
       "    </tr>\n",
       "  </tbody>\n",
       "</table>\n",
       "</div>"
      ],
      "text/plain": [
       "   event_type  id1  id2           timestamp\n",
       "11   befriend  1.0  2.0 2017-06-14 18:46:40\n",
       "12   befriend  1.0  3.0 2017-06-14 18:46:40\n",
       "14   befriend  1.0  8.0 2017-06-14 18:46:40"
      ]
     },
     "execution_count": 15,
     "metadata": {},
     "output_type": "execute_result"
    }
   ],
   "source": [
    "nnode = 1.0\n",
    "\n",
    "df_friend[df_friend['id1'] == nnode]"
   ]
  },
  {
   "cell_type": "code",
   "execution_count": 16,
   "metadata": {
    "collapsed": false
   },
   "outputs": [],
   "source": [
    "#G[10.0]"
   ]
  },
  {
   "cell_type": "code",
   "execution_count": 17,
   "metadata": {
    "collapsed": false
   },
   "outputs": [
    {
     "data": {
      "text/plain": [
       "10"
      ]
     },
     "execution_count": 17,
     "metadata": {},
     "output_type": "execute_result"
    }
   ],
   "source": [
    "G.number_of_nodes()"
   ]
  },
  {
   "cell_type": "code",
   "execution_count": 18,
   "metadata": {
    "collapsed": false
   },
   "outputs": [
    {
     "data": {
      "text/plain": [
       "10"
      ]
     },
     "execution_count": 18,
     "metadata": {},
     "output_type": "execute_result"
    }
   ],
   "source": [
    "G.number_of_edges()"
   ]
  },
  {
   "cell_type": "code",
   "execution_count": 19,
   "metadata": {
    "collapsed": false
   },
   "outputs": [],
   "source": [
    "#list(G.edges())"
   ]
  },
  {
   "cell_type": "code",
   "execution_count": 20,
   "metadata": {
    "collapsed": false
   },
   "outputs": [],
   "source": [
    "#list(G.neighbors(nnode))"
   ]
  },
  {
   "cell_type": "code",
   "execution_count": 21,
   "metadata": {
    "collapsed": false
   },
   "outputs": [],
   "source": [
    "#list(G.neighbors(3.0))"
   ]
  },
  {
   "cell_type": "code",
   "execution_count": 22,
   "metadata": {
    "collapsed": false
   },
   "outputs": [
    {
     "name": "stdout",
     "output_type": "stream",
     "text": [
      "7\n"
     ]
    }
   ],
   "source": [
    "#nnode = 1.0\n",
    "\n",
    "Dlist = list(G.neighbors(nnode))\n",
    "#print(Dlist)\n",
    "for i in list(G.neighbors(nnode)):\n",
    "    #print(list(G.neighbors(i)))\n",
    "    Dlist += list(G.neighbors(i))\n",
    "    #print(Dlist)\n",
    "    #print(len(list(G.neighbors(i))))\n",
    "\n",
    "#print(Dlist)\n",
    "#print(set(Dlist))\n",
    "print(len(set(Dlist)))\n",
    "\n"
   ]
  },
  {
   "cell_type": "code",
   "execution_count": 23,
   "metadata": {
    "collapsed": false
   },
   "outputs": [
    {
     "data": {
      "text/plain": [
       "6"
      ]
     },
     "execution_count": 23,
     "metadata": {},
     "output_type": "execute_result"
    }
   ],
   "source": [
    "len(list(nx.ego_graph(G, nnode, D, center=False)))"
   ]
  },
  {
   "cell_type": "code",
   "execution_count": 24,
   "metadata": {
    "collapsed": false
   },
   "outputs": [],
   "source": [
    "# define a dataframe: df_mean_sd to store the mean and sd of the last T purchase for each user's network\n",
    "#df_mean_sd = pd.DataFrame({\"id\": [], \"mean\": [], \"sd\": []})\n",
    "#df_mean_sd"
   ]
  },
  {
   "cell_type": "code",
   "execution_count": 25,
   "metadata": {
    "collapsed": false
   },
   "outputs": [],
   "source": [
    "# define a function to calcualte the mean and sd for userid's network\n",
    "def Get_Mean_SD(userid):\n",
    "    Nodes = list(nx.ego_graph(G, userid, D, center=False))\n",
    "    df_Nodes = df_purchase.loc[df_purchase['id'].isin(Nodes)]\n",
    "    if len(df_Nodes) >= 2:    \n",
    "        if len(df_Nodes) > T:\n",
    "            df_Nodes = df_Nodes.sort_values('timestamp').iloc[-int(T):]\n",
    "        df_Nodes.shape\n",
    "        mean = df_Nodes.amount.mean()\n",
    "        sd = df_Nodes.amount.std()\n",
    "        mean = float(\"{0:.2f}\".format(mean))\n",
    "        sd = float(\"{0:.2f}\".format(sd))\n",
    "    #Node_amount = pd.DataFrame({'id': [userid], 'mean': [mean], 'sd': [sd]})\n",
    "    #global df_mean_sd\n",
    "    #df_mean_sd = df_mean_sd.append(Node_amount)\n",
    "    else:\n",
    "        mean=np.nan\n",
    "        sd=np.nan\n",
    "    \n",
    "    return mean, sd"
   ]
  },
  {
   "cell_type": "code",
   "execution_count": 26,
   "metadata": {
    "collapsed": false
   },
   "outputs": [],
   "source": [
    "#Get_Mean_SD(4.0)"
   ]
  },
  {
   "cell_type": "code",
   "execution_count": 27,
   "metadata": {
    "collapsed": false
   },
   "outputs": [],
   "source": [
    "#df_mean_sd"
   ]
  },
  {
   "cell_type": "code",
   "execution_count": null,
   "metadata": {
    "collapsed": true
   },
   "outputs": [],
   "source": [
    "df_purchase"
   ]
  },
  {
   "cell_type": "markdown",
   "metadata": {},
   "source": [
    "## Step2: Determine where a purchase is anomalous \n",
    "input file: sample_dataset/stream_log.json"
   ]
  },
  {
   "cell_type": "code",
   "execution_count": 28,
   "metadata": {
    "collapsed": false
   },
   "outputs": [],
   "source": [
    "# read in the stream_log.json\n",
    "streamlogfile = 'sample_dataset/stream_log_s.json'\n",
    "df_stream = pd.read_json(streamlogfile, lines=True)\n",
    "# If sort on the timestamp is needed, commentout the following line\n",
    "#df_stream = df_stream.sort_values('timestamp')\n",
    "\n",
    "# open output file flagged_purchases.json\n",
    "#flaggedfile = 'log_output/flagged_purchases.json'\n",
    "flaggedfile = 'flagged_purchases_s.json'\n",
    "f = open(flaggedfile, 'a+')"
   ]
  },
  {
   "cell_type": "code",
   "execution_count": 29,
   "metadata": {
    "collapsed": false
   },
   "outputs": [],
   "source": [
    "# Determine a purchase is anomalous; update purchase history; update social network\n",
    "for i in range(0, len(df_stream)):\n",
    "    datai = df_stream.iloc[i]\n",
    "    event_type = datai['event_type']\n",
    "    if event_type == 'purchase':\n",
    "        # update purchase history\n",
    "        df_purchase.append(datai)\n",
    "        timestamp = datai['timestamp']\n",
    "        timestamp = str(timestamp)\n",
    "        userid = datai['id']\n",
    "        amount = datai['amount']\n",
    "        mean, sd = Get_Mean_SD(userid)\n",
    "        if mean != np.nan:\n",
    "            mean_3sd = mean + (3*sd)\n",
    "            dataflag = {\"event_type\":event_type, \"timestamp\":str(timestamp), \"id\": userid, \"amount\": amount, \"mean\": mean, \"sd\": sd}\n",
    "            if amount > mean_3sd:\n",
    "                f.write('\"event_type\":\"{0:s}\", \"timestamp\":\"{1:s}\", \"id\": \"{2:.0f}\", \"amount\": \"{3:.2f}\", \"mean\": \"{4:.2f}\", \"sd\": \"{5:.2f}\"\\n'.format(event_type, timestamp, userid, amount, mean, sd))\n",
    "    # update social network\n",
    "    if event_type == 'befriend':\n",
    "        id1 = datai['id1']\n",
    "        id2 = datai['id2']\n",
    "        G.add_edge(id1,id2)\n",
    "    if event_type == 'unfriend':\n",
    "        id1 = datai['id1']\n",
    "        id2 = datai['id2']\n",
    "        if G.has_edge(id1,id2):\n",
    "            G.remove_edge(id1,id2)  \n",
    "    "
   ]
  },
  {
   "cell_type": "code",
   "execution_count": 30,
   "metadata": {
    "collapsed": true
   },
   "outputs": [],
   "source": [
    "f.close() "
   ]
  },
  {
   "cell_type": "code",
   "execution_count": null,
   "metadata": {
    "collapsed": true
   },
   "outputs": [],
   "source": [
    "df_purchase"
   ]
  },
  {
   "cell_type": "code",
   "execution_count": null,
   "metadata": {
    "collapsed": true
   },
   "outputs": [],
   "source": [
    "G.number_of_nodes()"
   ]
  },
  {
   "cell_type": "code",
   "execution_count": null,
   "metadata": {
    "collapsed": true
   },
   "outputs": [],
   "source": [
    "G.number_of_edges()"
   ]
  }
 ],
 "metadata": {
  "kernelspec": {
   "display_name": "Python [Root]",
   "language": "python",
   "name": "Python [Root]"
  },
  "language_info": {
   "codemirror_mode": {
    "name": "ipython",
    "version": 3
   },
   "file_extension": ".py",
   "mimetype": "text/x-python",
   "name": "python",
   "nbconvert_exporter": "python",
   "pygments_lexer": "ipython3",
   "version": "3.5.1"
  }
 },
 "nbformat": 4,
 "nbformat_minor": 0
}
