{
 "cells": [
  {
   "cell_type": "code",
   "execution_count": 1,
   "metadata": {
    "collapsed": true
   },
   "outputs": [],
   "source": [
    "import numpy as np\n",
    "import pandas as pd\n",
    "import networkx as nx\n",
    "import json\n",
    "import sys"
   ]
  },
  {
   "cell_type": "markdown",
   "metadata": {},
   "source": [
    "## Step1: build the initial state of the entire user network, as well as the purchae history of the users\n",
    "Input: sample_dataset/batch_log.json"
   ]
  },
  {
   "cell_type": "code",
   "execution_count": 2,
   "metadata": {
    "collapsed": false
   },
   "outputs": [],
   "source": [
    "batchlogfile = 'log_input/batch_log.json'\n",
    "df_batch = pd.read_json(batchlogfile, lines=True)"
   ]
  },
  {
   "cell_type": "code",
   "execution_count": 3,
   "metadata": {
    "collapsed": false
   },
   "outputs": [
    {
     "data": {
      "text/html": [
       "<div>\n",
       "<table border=\"1\" class=\"dataframe\">\n",
       "  <thead>\n",
       "    <tr style=\"text-align: right;\">\n",
       "      <th></th>\n",
       "      <th>D</th>\n",
       "      <th>T</th>\n",
       "      <th>amount</th>\n",
       "      <th>event_type</th>\n",
       "      <th>id</th>\n",
       "      <th>id1</th>\n",
       "      <th>id2</th>\n",
       "      <th>timestamp</th>\n",
       "    </tr>\n",
       "  </thead>\n",
       "  <tbody>\n",
       "    <tr>\n",
       "      <th>0</th>\n",
       "      <td>3.0</td>\n",
       "      <td>50.0</td>\n",
       "      <td>NaN</td>\n",
       "      <td>NaN</td>\n",
       "      <td>NaN</td>\n",
       "      <td>NaN</td>\n",
       "      <td>NaN</td>\n",
       "      <td>NaT</td>\n",
       "    </tr>\n",
       "    <tr>\n",
       "      <th>1</th>\n",
       "      <td>NaN</td>\n",
       "      <td>NaN</td>\n",
       "      <td>16.83</td>\n",
       "      <td>purchase</td>\n",
       "      <td>1.0</td>\n",
       "      <td>NaN</td>\n",
       "      <td>NaN</td>\n",
       "      <td>2017-06-13 11:33:01</td>\n",
       "    </tr>\n",
       "    <tr>\n",
       "      <th>2</th>\n",
       "      <td>NaN</td>\n",
       "      <td>NaN</td>\n",
       "      <td>59.28</td>\n",
       "      <td>purchase</td>\n",
       "      <td>1.0</td>\n",
       "      <td>NaN</td>\n",
       "      <td>NaN</td>\n",
       "      <td>2017-06-13 11:33:01</td>\n",
       "    </tr>\n",
       "    <tr>\n",
       "      <th>3</th>\n",
       "      <td>NaN</td>\n",
       "      <td>NaN</td>\n",
       "      <td>NaN</td>\n",
       "      <td>befriend</td>\n",
       "      <td>NaN</td>\n",
       "      <td>1.0</td>\n",
       "      <td>2.0</td>\n",
       "      <td>2017-06-13 11:33:01</td>\n",
       "    </tr>\n",
       "    <tr>\n",
       "      <th>4</th>\n",
       "      <td>NaN</td>\n",
       "      <td>NaN</td>\n",
       "      <td>NaN</td>\n",
       "      <td>befriend</td>\n",
       "      <td>NaN</td>\n",
       "      <td>3.0</td>\n",
       "      <td>1.0</td>\n",
       "      <td>2017-06-13 11:33:01</td>\n",
       "    </tr>\n",
       "    <tr>\n",
       "      <th>5</th>\n",
       "      <td>NaN</td>\n",
       "      <td>NaN</td>\n",
       "      <td>11.20</td>\n",
       "      <td>purchase</td>\n",
       "      <td>1.0</td>\n",
       "      <td>NaN</td>\n",
       "      <td>NaN</td>\n",
       "      <td>2017-06-13 11:33:01</td>\n",
       "    </tr>\n",
       "    <tr>\n",
       "      <th>6</th>\n",
       "      <td>NaN</td>\n",
       "      <td>NaN</td>\n",
       "      <td>NaN</td>\n",
       "      <td>unfriend</td>\n",
       "      <td>NaN</td>\n",
       "      <td>1.0</td>\n",
       "      <td>3.0</td>\n",
       "      <td>2017-06-13 11:33:01</td>\n",
       "    </tr>\n",
       "  </tbody>\n",
       "</table>\n",
       "</div>"
      ],
      "text/plain": [
       "     D     T  amount event_type   id  id1  id2           timestamp\n",
       "0  3.0  50.0     NaN        NaN  NaN  NaN  NaN                 NaT\n",
       "1  NaN   NaN   16.83   purchase  1.0  NaN  NaN 2017-06-13 11:33:01\n",
       "2  NaN   NaN   59.28   purchase  1.0  NaN  NaN 2017-06-13 11:33:01\n",
       "3  NaN   NaN     NaN   befriend  NaN  1.0  2.0 2017-06-13 11:33:01\n",
       "4  NaN   NaN     NaN   befriend  NaN  3.0  1.0 2017-06-13 11:33:01\n",
       "5  NaN   NaN   11.20   purchase  1.0  NaN  NaN 2017-06-13 11:33:01\n",
       "6  NaN   NaN     NaN   unfriend  NaN  1.0  3.0 2017-06-13 11:33:01"
      ]
     },
     "execution_count": 3,
     "metadata": {},
     "output_type": "execute_result"
    }
   ],
   "source": [
    "df_batch"
   ]
  },
  {
   "cell_type": "code",
   "execution_count": 4,
   "metadata": {
    "collapsed": false
   },
   "outputs": [
    {
     "data": {
      "text/html": [
       "<div>\n",
       "<table border=\"1\" class=\"dataframe\">\n",
       "  <thead>\n",
       "    <tr style=\"text-align: right;\">\n",
       "      <th></th>\n",
       "      <th>D</th>\n",
       "      <th>T</th>\n",
       "      <th>amount</th>\n",
       "      <th>event_type</th>\n",
       "      <th>id</th>\n",
       "      <th>id1</th>\n",
       "      <th>id2</th>\n",
       "      <th>timestamp</th>\n",
       "    </tr>\n",
       "  </thead>\n",
       "  <tbody>\n",
       "    <tr>\n",
       "      <th>1</th>\n",
       "      <td>NaN</td>\n",
       "      <td>NaN</td>\n",
       "      <td>16.83</td>\n",
       "      <td>purchase</td>\n",
       "      <td>1.0</td>\n",
       "      <td>NaN</td>\n",
       "      <td>NaN</td>\n",
       "      <td>2017-06-13 11:33:01</td>\n",
       "    </tr>\n",
       "    <tr>\n",
       "      <th>2</th>\n",
       "      <td>NaN</td>\n",
       "      <td>NaN</td>\n",
       "      <td>59.28</td>\n",
       "      <td>purchase</td>\n",
       "      <td>1.0</td>\n",
       "      <td>NaN</td>\n",
       "      <td>NaN</td>\n",
       "      <td>2017-06-13 11:33:01</td>\n",
       "    </tr>\n",
       "    <tr>\n",
       "      <th>5</th>\n",
       "      <td>NaN</td>\n",
       "      <td>NaN</td>\n",
       "      <td>11.20</td>\n",
       "      <td>purchase</td>\n",
       "      <td>1.0</td>\n",
       "      <td>NaN</td>\n",
       "      <td>NaN</td>\n",
       "      <td>2017-06-13 11:33:01</td>\n",
       "    </tr>\n",
       "  </tbody>\n",
       "</table>\n",
       "</div>"
      ],
      "text/plain": [
       "    D   T  amount event_type   id  id1  id2           timestamp\n",
       "1 NaN NaN   16.83   purchase  1.0  NaN  NaN 2017-06-13 11:33:01\n",
       "2 NaN NaN   59.28   purchase  1.0  NaN  NaN 2017-06-13 11:33:01\n",
       "5 NaN NaN   11.20   purchase  1.0  NaN  NaN 2017-06-13 11:33:01"
      ]
     },
     "execution_count": 4,
     "metadata": {},
     "output_type": "execute_result"
    }
   ],
   "source": [
    "df_purchase = df_batch[df_batch['event_type'] == 'purchase']\n",
    "df_purchase"
   ]
  },
  {
   "cell_type": "code",
   "execution_count": 5,
   "metadata": {
    "collapsed": false
   },
   "outputs": [
    {
     "data": {
      "text/plain": [
       "26.284931678308265"
      ]
     },
     "execution_count": 5,
     "metadata": {},
     "output_type": "execute_result"
    }
   ],
   "source": [
    "df_purchase['amount'].std()"
   ]
  },
  {
   "cell_type": "code",
   "execution_count": 6,
   "metadata": {
    "collapsed": false
   },
   "outputs": [
    {
     "data": {
      "text/plain": [
       "21.461556845257576"
      ]
     },
     "execution_count": 6,
     "metadata": {},
     "output_type": "execute_result"
    }
   ],
   "source": [
    "np.std(df_purchase['amount'])"
   ]
  },
  {
   "cell_type": "code",
   "execution_count": 7,
   "metadata": {
    "collapsed": false
   },
   "outputs": [
    {
     "data": {
      "text/html": [
       "<div>\n",
       "<table border=\"1\" class=\"dataframe\">\n",
       "  <thead>\n",
       "    <tr style=\"text-align: right;\">\n",
       "      <th></th>\n",
       "      <th>D</th>\n",
       "      <th>T</th>\n",
       "      <th>amount</th>\n",
       "      <th>id</th>\n",
       "      <th>id1</th>\n",
       "      <th>id2</th>\n",
       "    </tr>\n",
       "  </thead>\n",
       "  <tbody>\n",
       "    <tr>\n",
       "      <th>count</th>\n",
       "      <td>1.0</td>\n",
       "      <td>1.0</td>\n",
       "      <td>3.000000</td>\n",
       "      <td>3.0</td>\n",
       "      <td>3.000000</td>\n",
       "      <td>3.0</td>\n",
       "    </tr>\n",
       "    <tr>\n",
       "      <th>mean</th>\n",
       "      <td>3.0</td>\n",
       "      <td>50.0</td>\n",
       "      <td>29.103333</td>\n",
       "      <td>1.0</td>\n",
       "      <td>1.666667</td>\n",
       "      <td>2.0</td>\n",
       "    </tr>\n",
       "    <tr>\n",
       "      <th>std</th>\n",
       "      <td>NaN</td>\n",
       "      <td>NaN</td>\n",
       "      <td>26.284932</td>\n",
       "      <td>0.0</td>\n",
       "      <td>1.154701</td>\n",
       "      <td>1.0</td>\n",
       "    </tr>\n",
       "    <tr>\n",
       "      <th>min</th>\n",
       "      <td>3.0</td>\n",
       "      <td>50.0</td>\n",
       "      <td>11.200000</td>\n",
       "      <td>1.0</td>\n",
       "      <td>1.000000</td>\n",
       "      <td>1.0</td>\n",
       "    </tr>\n",
       "    <tr>\n",
       "      <th>25%</th>\n",
       "      <td>3.0</td>\n",
       "      <td>50.0</td>\n",
       "      <td>14.015000</td>\n",
       "      <td>1.0</td>\n",
       "      <td>1.000000</td>\n",
       "      <td>1.5</td>\n",
       "    </tr>\n",
       "    <tr>\n",
       "      <th>50%</th>\n",
       "      <td>3.0</td>\n",
       "      <td>50.0</td>\n",
       "      <td>16.830000</td>\n",
       "      <td>1.0</td>\n",
       "      <td>1.000000</td>\n",
       "      <td>2.0</td>\n",
       "    </tr>\n",
       "    <tr>\n",
       "      <th>75%</th>\n",
       "      <td>3.0</td>\n",
       "      <td>50.0</td>\n",
       "      <td>38.055000</td>\n",
       "      <td>1.0</td>\n",
       "      <td>2.000000</td>\n",
       "      <td>2.5</td>\n",
       "    </tr>\n",
       "    <tr>\n",
       "      <th>max</th>\n",
       "      <td>3.0</td>\n",
       "      <td>50.0</td>\n",
       "      <td>59.280000</td>\n",
       "      <td>1.0</td>\n",
       "      <td>3.000000</td>\n",
       "      <td>3.0</td>\n",
       "    </tr>\n",
       "  </tbody>\n",
       "</table>\n",
       "</div>"
      ],
      "text/plain": [
       "         D     T     amount   id       id1  id2\n",
       "count  1.0   1.0   3.000000  3.0  3.000000  3.0\n",
       "mean   3.0  50.0  29.103333  1.0  1.666667  2.0\n",
       "std    NaN   NaN  26.284932  0.0  1.154701  1.0\n",
       "min    3.0  50.0  11.200000  1.0  1.000000  1.0\n",
       "25%    3.0  50.0  14.015000  1.0  1.000000  1.5\n",
       "50%    3.0  50.0  16.830000  1.0  1.000000  2.0\n",
       "75%    3.0  50.0  38.055000  1.0  2.000000  2.5\n",
       "max    3.0  50.0  59.280000  1.0  3.000000  3.0"
      ]
     },
     "execution_count": 7,
     "metadata": {},
     "output_type": "execute_result"
    }
   ],
   "source": [
    "df_batch.describe()"
   ]
  },
  {
   "cell_type": "code",
   "execution_count": 8,
   "metadata": {
    "collapsed": false
   },
   "outputs": [
    {
     "name": "stdout",
     "output_type": "stream",
     "text": [
      "3.0\n",
      "50.0\n"
     ]
    }
   ],
   "source": [
    "# Read D and T\n",
    "df_DT=df_batch[df_batch['D'].notnull()]\n",
    "df_DT=df_DT[['D','T']]\n",
    "D = df_DT.values[0][0]\n",
    "T = df_DT.values[0][1]\n",
    "print(D)\n",
    "print(T)\n",
    "#df_DT.head()"
   ]
  },
  {
   "cell_type": "code",
   "execution_count": 9,
   "metadata": {
    "collapsed": false
   },
   "outputs": [],
   "source": [
    "# check D and T values\n",
    "if D < 1:\n",
    "    print('Program terminated because of D < 1')\n",
    "    sys.exit()\n",
    "if T < 2:\n",
    "    print('Program terminated because of T < 2')\n",
    "    sys.exit()"
   ]
  },
  {
   "cell_type": "code",
   "execution_count": 10,
   "metadata": {
    "collapsed": false
   },
   "outputs": [],
   "source": [
    "#for possible_value in set(df['event_type'].tolist()):\n",
    "#    print(possible_value)"
   ]
  },
  {
   "cell_type": "code",
   "execution_count": 11,
   "metadata": {
    "collapsed": false
   },
   "outputs": [],
   "source": [
    "df_purchase = df_batch[df_batch['event_type']=='purchase']\n",
    "df_purchase = df_purchase[['event_type','id','timestamp','amount']]\n",
    "# If sort on the timestamp is needed, commentout the following line\n",
    "# df_purchase = df_purchase.sort_values('timestamp')\n",
    "#df_purchase.shape"
   ]
  },
  {
   "cell_type": "code",
   "execution_count": 12,
   "metadata": {
    "collapsed": false
   },
   "outputs": [],
   "source": [
    "df_friend=df_batch[(df_batch['event_type']=='befriend') | (df_batch['event_type']=='unfriend')]\n",
    "df_friend=df_friend[['event_type','id1','id2','timestamp']]\n",
    "# If sort on the timestamp is needed, commentout the following line\n",
    "#df_friend=df_friend.sort_values('timestamp')\n",
    "#df_friend.shape"
   ]
  },
  {
   "cell_type": "code",
   "execution_count": 13,
   "metadata": {
    "collapsed": true
   },
   "outputs": [],
   "source": [
    "G = nx.Graph()"
   ]
  },
  {
   "cell_type": "code",
   "execution_count": 14,
   "metadata": {
    "collapsed": false
   },
   "outputs": [],
   "source": [
    "id1list = df_friend.id1.tolist()\n",
    "id2list = df_friend.id2.tolist()\n",
    "idlist = set(id1list + id2list)\n",
    "G.add_nodes_from(idlist)\n",
    "#len(list(G.nodes()))"
   ]
  },
  {
   "cell_type": "code",
   "execution_count": 15,
   "metadata": {
    "collapsed": true
   },
   "outputs": [],
   "source": [
    "def Add_edges(data):\n",
    "    for row in data.itertuples():\n",
    "        id10 = row.id1\n",
    "        id20 = row.id2\n",
    "        event_type0 = row.event_type\n",
    "        if event_type0 == 'befriend':\n",
    "            G.add_edge(id10,id20)\n",
    "        if event_type0 == 'unfriend':\n",
    "            if G.has_edge(id10,id20):\n",
    "                G.remove_edge(id10,id20)  "
   ]
  },
  {
   "cell_type": "code",
   "execution_count": 16,
   "metadata": {
    "collapsed": true
   },
   "outputs": [],
   "source": [
    "Add_edges(df_friend)"
   ]
  },
  {
   "cell_type": "code",
   "execution_count": 17,
   "metadata": {
    "collapsed": false
   },
   "outputs": [
    {
     "data": {
      "text/plain": [
       "1"
      ]
     },
     "execution_count": 17,
     "metadata": {},
     "output_type": "execute_result"
    }
   ],
   "source": [
    "len(list(G.edges()))"
   ]
  },
  {
   "cell_type": "code",
   "execution_count": 18,
   "metadata": {
    "collapsed": false
   },
   "outputs": [
    {
     "data": {
      "text/plain": [
       "{1.0: {}}"
      ]
     },
     "execution_count": 18,
     "metadata": {},
     "output_type": "execute_result"
    }
   ],
   "source": [
    "G[2.0]"
   ]
  },
  {
   "cell_type": "code",
   "execution_count": 19,
   "metadata": {
    "collapsed": false
   },
   "outputs": [
    {
     "data": {
      "text/plain": [
       "3"
      ]
     },
     "execution_count": 19,
     "metadata": {},
     "output_type": "execute_result"
    }
   ],
   "source": [
    "G.number_of_nodes()"
   ]
  },
  {
   "cell_type": "code",
   "execution_count": 20,
   "metadata": {
    "collapsed": false
   },
   "outputs": [
    {
     "data": {
      "text/plain": [
       "1"
      ]
     },
     "execution_count": 20,
     "metadata": {},
     "output_type": "execute_result"
    }
   ],
   "source": [
    "G.number_of_edges()"
   ]
  },
  {
   "cell_type": "code",
   "execution_count": 21,
   "metadata": {
    "collapsed": false
   },
   "outputs": [
    {
     "data": {
      "text/plain": [
       "[1.0]"
      ]
     },
     "execution_count": 21,
     "metadata": {},
     "output_type": "execute_result"
    }
   ],
   "source": [
    "list(nx.ego_graph(G, 2, D, center=False))"
   ]
  },
  {
   "cell_type": "code",
   "execution_count": 22,
   "metadata": {
    "collapsed": false
   },
   "outputs": [],
   "source": [
    "# define a function to calcualte the mean and sd for userid's network\n",
    "def Get_Mean_SD(userid):\n",
    "    Nodes = list(nx.ego_graph(G, userid, D, center=False))\n",
    "    df_Nodes = df_purchase.loc[df_purchase['id'].isin(Nodes)]\n",
    "    if len(df_Nodes) >= 2:    \n",
    "        if len(df_Nodes) > T:\n",
    "            df_Nodes = df_Nodes.sort_values('timestamp').iloc[-int(T):]\n",
    "        df_Nodes.shape\n",
    "        # the std from pd is different from np; np is correct\n",
    "        #mean = df_Nodes.amount.mean()\n",
    "        #sd = df_Nodes.amount.std()\n",
    "        mean = np.mean(df_Nodes['amount'])\n",
    "        sd = np.std(df_Nodes['amount'])\n",
    "        mean = float('{0:.2f}'.format(mean))\n",
    "        sd = float('{0:.2f}'.format(sd))\n",
    "    else:\n",
    "        mean=np.nan\n",
    "        sd=np.nan\n",
    "    \n",
    "    return mean, sd"
   ]
  },
  {
   "cell_type": "code",
   "execution_count": 23,
   "metadata": {
    "collapsed": false
   },
   "outputs": [
    {
     "data": {
      "text/plain": [
       "(29.1, 21.46)"
      ]
     },
     "execution_count": 23,
     "metadata": {},
     "output_type": "execute_result"
    }
   ],
   "source": [
    "Get_Mean_SD(2.0)"
   ]
  },
  {
   "cell_type": "markdown",
   "metadata": {},
   "source": [
    "## Step2: Determine whether a purchase is anomalous \n",
    "input file: sample_dataset/stream_log.json"
   ]
  },
  {
   "cell_type": "code",
   "execution_count": 24,
   "metadata": {
    "collapsed": false
   },
   "outputs": [],
   "source": [
    "# read in the stream_log.json\n",
    "streamlogfile = 'log_input/stream_log.json'\n",
    "df_stream = pd.read_json(streamlogfile, lines=True)\n",
    "# If sort on the timestamp is needed, commentout the following line\n",
    "#df_stream = df_stream.sort_values('timestamp')\n",
    "\n",
    "# open output file flagged_purchases.json\n",
    "flaggedfile = 'log_output/flagged_purchases.json'\n",
    "f = open(flaggedfile, 'w')"
   ]
  },
  {
   "cell_type": "code",
   "execution_count": 25,
   "metadata": {
    "collapsed": true
   },
   "outputs": [],
   "source": [
    "# Determine whether a purchase is anomalous; update purchase history; update social network\n",
    "for i in range(0, len(df_stream)):\n",
    "    datai = df_stream.iloc[i]\n",
    "    event_type = datai['event_type']\n",
    "    if event_type == 'purchase':\n",
    "        # update purchase history\n",
    "        df_purchase = df_purchase.append(datai[['event_type','id','timestamp','amount']])\n",
    "        timestamp = datai['timestamp']\n",
    "        timestamp = str(timestamp)\n",
    "        userid = datai['id']\n",
    "        amount = datai['amount']\n",
    "        mean, sd = Get_Mean_SD(userid)\n",
    "        if mean != np.nan:\n",
    "            mean_3sd = mean + (3*sd)\n",
    "            if amount > mean_3sd:\n",
    "                f.write('{{\"event_type\":\"{0:s}\", \"timestamp\":\"{1:s}\", \"id\": \"{2:.0f}\", \"amount\": \"{3:.2f}\", \"mean\": \"{4:.2f}\", \"sd\": \"{5:.2f}\"}}\\n'.format(event_type, timestamp, userid, amount, mean, sd))\n",
    "    # update social network\n",
    "    if event_type == 'befriend':\n",
    "        id1 = datai['id1']\n",
    "        id2 = datai['id2']\n",
    "        G.add_edge(id1,id2)\n",
    "    if event_type == 'unfriend':\n",
    "        id1 = datai['id1']\n",
    "        id2 = datai['id2']\n",
    "        if G.has_edge(id1,id2):\n",
    "            G.remove_edge(id1,id2)  \n",
    "    \n"
   ]
  },
  {
   "cell_type": "code",
   "execution_count": 26,
   "metadata": {
    "collapsed": true
   },
   "outputs": [],
   "source": [
    "f.close() "
   ]
  },
  {
   "cell_type": "code",
   "execution_count": 27,
   "metadata": {
    "collapsed": false
   },
   "outputs": [
    {
     "data": {
      "text/html": [
       "<div>\n",
       "<table border=\"1\" class=\"dataframe\">\n",
       "  <thead>\n",
       "    <tr style=\"text-align: right;\">\n",
       "      <th></th>\n",
       "      <th>amount</th>\n",
       "      <th>id</th>\n",
       "    </tr>\n",
       "  </thead>\n",
       "  <tbody>\n",
       "    <tr>\n",
       "      <th>count</th>\n",
       "      <td>1.00</td>\n",
       "      <td>1.0</td>\n",
       "    </tr>\n",
       "    <tr>\n",
       "      <th>mean</th>\n",
       "      <td>1601.83</td>\n",
       "      <td>2.0</td>\n",
       "    </tr>\n",
       "    <tr>\n",
       "      <th>std</th>\n",
       "      <td>NaN</td>\n",
       "      <td>NaN</td>\n",
       "    </tr>\n",
       "    <tr>\n",
       "      <th>min</th>\n",
       "      <td>1601.83</td>\n",
       "      <td>2.0</td>\n",
       "    </tr>\n",
       "    <tr>\n",
       "      <th>25%</th>\n",
       "      <td>1601.83</td>\n",
       "      <td>2.0</td>\n",
       "    </tr>\n",
       "    <tr>\n",
       "      <th>50%</th>\n",
       "      <td>1601.83</td>\n",
       "      <td>2.0</td>\n",
       "    </tr>\n",
       "    <tr>\n",
       "      <th>75%</th>\n",
       "      <td>1601.83</td>\n",
       "      <td>2.0</td>\n",
       "    </tr>\n",
       "    <tr>\n",
       "      <th>max</th>\n",
       "      <td>1601.83</td>\n",
       "      <td>2.0</td>\n",
       "    </tr>\n",
       "  </tbody>\n",
       "</table>\n",
       "</div>"
      ],
      "text/plain": [
       "        amount   id\n",
       "count     1.00  1.0\n",
       "mean   1601.83  2.0\n",
       "std        NaN  NaN\n",
       "min    1601.83  2.0\n",
       "25%    1601.83  2.0\n",
       "50%    1601.83  2.0\n",
       "75%    1601.83  2.0\n",
       "max    1601.83  2.0"
      ]
     },
     "execution_count": 27,
     "metadata": {},
     "output_type": "execute_result"
    }
   ],
   "source": [
    "df_stream.describe()"
   ]
  },
  {
   "cell_type": "code",
   "execution_count": 28,
   "metadata": {
    "collapsed": false
   },
   "outputs": [
    {
     "data": {
      "text/html": [
       "<div>\n",
       "<table border=\"1\" class=\"dataframe\">\n",
       "  <thead>\n",
       "    <tr style=\"text-align: right;\">\n",
       "      <th></th>\n",
       "      <th>amount</th>\n",
       "      <th>event_type</th>\n",
       "      <th>id</th>\n",
       "      <th>timestamp</th>\n",
       "    </tr>\n",
       "  </thead>\n",
       "  <tbody>\n",
       "    <tr>\n",
       "      <th>0</th>\n",
       "      <td>1601.83</td>\n",
       "      <td>purchase</td>\n",
       "      <td>2</td>\n",
       "      <td>2017-06-13 11:33:02</td>\n",
       "    </tr>\n",
       "  </tbody>\n",
       "</table>\n",
       "</div>"
      ],
      "text/plain": [
       "    amount event_type  id           timestamp\n",
       "0  1601.83   purchase   2 2017-06-13 11:33:02"
      ]
     },
     "execution_count": 28,
     "metadata": {},
     "output_type": "execute_result"
    }
   ],
   "source": [
    "df_stream.head()"
   ]
  },
  {
   "cell_type": "code",
   "execution_count": null,
   "metadata": {
    "collapsed": true
   },
   "outputs": [],
   "source": []
  }
 ],
 "metadata": {
  "kernelspec": {
   "display_name": "Python 3",
   "language": "python",
   "name": "python3"
  },
  "language_info": {
   "codemirror_mode": {
    "name": "ipython",
    "version": 3
   },
   "file_extension": ".py",
   "mimetype": "text/x-python",
   "name": "python",
   "nbconvert_exporter": "python",
   "pygments_lexer": "ipython3",
   "version": "3.6.0"
  }
 },
 "nbformat": 4,
 "nbformat_minor": 0
}
