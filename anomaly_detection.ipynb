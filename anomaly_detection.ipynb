{
 "cells": [
  {
   "cell_type": "code",
   "execution_count": 1,
   "metadata": {
    "collapsed": true
   },
   "outputs": [],
   "source": [
    "import numpy as np\n",
    "import pandas as pd\n",
    "import networkx as nx\n",
    "import json\n",
    "import sys"
   ]
  },
  {
   "cell_type": "markdown",
   "metadata": {},
   "source": [
    "## Step1: build the initial state of the entire user network, as well as the purchae history of the users\n",
    "Input: sample_dataset/batch_log.json"
   ]
  },
  {
   "cell_type": "code",
   "execution_count": 2,
   "metadata": {
    "collapsed": false
   },
   "outputs": [],
   "source": [
    "batchlogfile = 'sample_dataset/batch_log.json'\n",
    "df_batch = pd.read_json(batchlogfile, lines=True)"
   ]
  },
  {
   "cell_type": "code",
   "execution_count": 3,
   "metadata": {
    "collapsed": true
   },
   "outputs": [],
   "source": [
    "#df_batch.head()"
   ]
  },
  {
   "cell_type": "code",
   "execution_count": 4,
   "metadata": {
    "collapsed": false
   },
   "outputs": [],
   "source": [
    "#df_batch.describe()"
   ]
  },
  {
   "cell_type": "code",
   "execution_count": 5,
   "metadata": {
    "collapsed": false
   },
   "outputs": [],
   "source": [
    "# Read D and T\n",
    "df_DT=df_batch[df_batch['D'].notnull()]\n",
    "df_DT=df_DT[['D','T']]\n",
    "D = df_DT.values[0][0]\n",
    "T = df_DT.values[0][1]\n",
    "#print(D)\n",
    "#print(T)\n",
    "#df_DT.head()"
   ]
  },
  {
   "cell_type": "code",
   "execution_count": 6,
   "metadata": {
    "collapsed": false
   },
   "outputs": [],
   "source": [
    "# check D and T values\n",
    "if D < 1:\n",
    "    print('Program terminated because of D < 1')\n",
    "    sys.exit()\n",
    "if T < 2:\n",
    "    print('Program terminated because of T < 2')\n",
    "    sys.exit()"
   ]
  },
  {
   "cell_type": "code",
   "execution_count": 7,
   "metadata": {
    "collapsed": false
   },
   "outputs": [],
   "source": [
    "#for possible_value in set(df['event_type'].tolist()):\n",
    "#    print(possible_value)"
   ]
  },
  {
   "cell_type": "code",
   "execution_count": 8,
   "metadata": {
    "collapsed": false
   },
   "outputs": [],
   "source": [
    "df_purchase = df_batch[df_batch['event_type']=='purchase']\n",
    "df_purchase = df_purchase[['event_type','id','timestamp','amount']]\n",
    "# If sort on the timestamp is needed, commentout the following line\n",
    "# df_purchase = df_purchase.sort_values('timestamp')\n",
    "#df_purchase.shape"
   ]
  },
  {
   "cell_type": "code",
   "execution_count": 9,
   "metadata": {
    "collapsed": false
   },
   "outputs": [],
   "source": [
    "df_friend=df_batch[(df_batch['event_type']=='befriend') | (df_batch['event_type']=='unfriend')]\n",
    "df_friend=df_friend[['event_type','id1','id2','timestamp']]\n",
    "# If sort on the timestamp is needed, commentout the following line\n",
    "#df_friend=df_friend.sort_values('timestamp')\n",
    "#df_friend.shape"
   ]
  },
  {
   "cell_type": "code",
   "execution_count": 10,
   "metadata": {
    "collapsed": true
   },
   "outputs": [],
   "source": [
    "G = nx.Graph()"
   ]
  },
  {
   "cell_type": "code",
   "execution_count": 11,
   "metadata": {
    "collapsed": false
   },
   "outputs": [],
   "source": [
    "id1list = df_friend.id1.tolist()\n",
    "id2list = df_friend.id2.tolist()\n",
    "idlist = set(id1list + id2list)\n",
    "G.add_nodes_from(idlist)\n",
    "#len(list(G.nodes()))"
   ]
  },
  {
   "cell_type": "code",
   "execution_count": 12,
   "metadata": {
    "collapsed": true
   },
   "outputs": [],
   "source": [
    "def Add_edges(data):\n",
    "    for i in range(0, len(data)):\n",
    "        datai = data.iloc[i]\n",
    "        id10 = datai['id1']\n",
    "        id20 = datai['id2']\n",
    "        event_type0 = datai['event_type']\n",
    "        if event_type0 == 'befriend':\n",
    "            G.add_edge(id10,id20)\n",
    "        if event_type0 == 'unfriend':\n",
    "            if G.has_edge(id10,id20):\n",
    "                G.remove_edge(id10,id20)  \n",
    "                            "
   ]
  },
  {
   "cell_type": "code",
   "execution_count": 13,
   "metadata": {
    "collapsed": true
   },
   "outputs": [],
   "source": [
    "Add_edges(df_friend)"
   ]
  },
  {
   "cell_type": "code",
   "execution_count": 14,
   "metadata": {
    "collapsed": false
   },
   "outputs": [],
   "source": [
    "#len(list(G.edges()))"
   ]
  },
  {
   "cell_type": "code",
   "execution_count": 15,
   "metadata": {
    "collapsed": false
   },
   "outputs": [],
   "source": [
    "#G[10.0]"
   ]
  },
  {
   "cell_type": "code",
   "execution_count": 16,
   "metadata": {
    "collapsed": false
   },
   "outputs": [],
   "source": [
    "#G.number_of_nodes()"
   ]
  },
  {
   "cell_type": "code",
   "execution_count": 17,
   "metadata": {
    "collapsed": false
   },
   "outputs": [],
   "source": [
    "#G.number_of_edges()"
   ]
  },
  {
   "cell_type": "code",
   "execution_count": 18,
   "metadata": {
    "collapsed": false
   },
   "outputs": [],
   "source": [
    "# define a function to calcualte the mean and sd for userid's network\n",
    "def Get_Mean_SD(userid):\n",
    "    Nodes = list(nx.ego_graph(G, userid, D, center=False))\n",
    "    df_Nodes = df_purchase.loc[df_purchase['id'].isin(Nodes)]\n",
    "    if len(df_Nodes) >= 2:    \n",
    "        if len(df_Nodes) > T:\n",
    "            df_Nodes = df_Nodes.sort_values('timestamp').iloc[-int(T):]\n",
    "        df_Nodes.shape\n",
    "        mean = df_Nodes.amount.mean()\n",
    "        sd = df_Nodes.amount.std()\n",
    "        mean = float(\"{0:.2f}\".format(mean))\n",
    "        sd = float(\"{0:.2f}\".format(sd))\n",
    "    else:\n",
    "        mean=np.nan\n",
    "        sd=np.nan\n",
    "    \n",
    "    return mean, sd"
   ]
  },
  {
   "cell_type": "code",
   "execution_count": 19,
   "metadata": {
    "collapsed": false
   },
   "outputs": [],
   "source": [
    "#Get_Mean_SD(0.0)"
   ]
  },
  {
   "cell_type": "markdown",
   "metadata": {},
   "source": [
    "## Step2: Determine whether a purchase is anomalous \n",
    "input file: sample_dataset/stream_log.json"
   ]
  },
  {
   "cell_type": "code",
   "execution_count": 20,
   "metadata": {
    "collapsed": false
   },
   "outputs": [],
   "source": [
    "# read in the stream_log.json\n",
    "streamlogfile = 'sample_dataset/stream_log.json'\n",
    "df_stream = pd.read_json(streamlogfile, lines=True)\n",
    "# If sort on the timestamp is needed, commentout the following line\n",
    "#df_stream = df_stream.sort_values('timestamp')\n",
    "\n",
    "# open output file flagged_purchases.json\n",
    "flaggedfile = 'log_output/flagged_purchases.json'\n",
    "f = open(flaggedfile, 'w')"
   ]
  },
  {
   "cell_type": "code",
   "execution_count": 21,
   "metadata": {
    "collapsed": false
   },
   "outputs": [],
   "source": [
    "# Determine whether a purchase is anomalous; update purchase history; update social network\n",
    "for i in range(0, len(df_stream)):\n",
    "    datai = df_stream.iloc[i]\n",
    "    event_type = datai['event_type']\n",
    "    if event_type == 'purchase':\n",
    "        # update purchase history\n",
    "        df_purchase = df_purchase.append(datai)\n",
    "        timestamp = datai['timestamp']\n",
    "        timestamp = str(timestamp)\n",
    "        userid = datai['id']\n",
    "        amount = datai['amount']\n",
    "        mean, sd = Get_Mean_SD(userid)\n",
    "        if mean != np.nan:\n",
    "            mean_3sd = mean + (3*sd)\n",
    "            if amount > mean_3sd:\n",
    "                f.write('\"event_type\":\"{0:s}\", \"timestamp\":\"{1:s}\", \"id\": \"{2:.0f}\", \"amount\": \"{3:.2f}\", \"mean\": \"{4:.2f}\", \"sd\": \"{5:.2f}\"\\n'.format(event_type, timestamp, userid, amount, mean, sd))\n",
    "    # update social network\n",
    "    if event_type == 'befriend':\n",
    "        id1 = datai['id1']\n",
    "        id2 = datai['id2']\n",
    "        G.add_edge(id1,id2)\n",
    "    if event_type == 'unfriend':\n",
    "        id1 = datai['id1']\n",
    "        id2 = datai['id2']\n",
    "        if G.has_edge(id1,id2):\n",
    "            G.remove_edge(id1,id2)  \n",
    "    "
   ]
  },
  {
   "cell_type": "code",
   "execution_count": 22,
   "metadata": {
    "collapsed": true
   },
   "outputs": [],
   "source": [
    "f.close() "
   ]
  },
  {
   "cell_type": "code",
   "execution_count": null,
   "metadata": {
    "collapsed": true
   },
   "outputs": [],
   "source": []
  }
 ],
 "metadata": {
  "kernelspec": {
   "display_name": "Python 3",
   "language": "python",
   "name": "python3"
  },
  "language_info": {
   "codemirror_mode": {
    "name": "ipython",
    "version": 3
   },
   "file_extension": ".py",
   "mimetype": "text/x-python",
   "name": "python",
   "nbconvert_exporter": "python",
   "pygments_lexer": "ipython3",
   "version": "3.6.0"
  }
 },
 "nbformat": 4,
 "nbformat_minor": 0
}
